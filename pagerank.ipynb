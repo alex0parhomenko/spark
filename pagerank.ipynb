{
 "cells": [
  {
   "cell_type": "code",
   "execution_count": 1,
   "metadata": {
    "collapsed": false
   },
   "outputs": [
    {
     "data": {
      "text/plain": [
       "<pyspark.context.SparkContext at 0x7f8aa0181310>"
      ]
     },
     "execution_count": 1,
     "metadata": {},
     "output_type": "execute_result"
    }
   ],
   "source": [
    "sc"
   ]
  },
  {
   "cell_type": "code",
   "execution_count": 2,
   "metadata": {
    "collapsed": true
   },
   "outputs": [],
   "source": [
    "import sklearn as sk\n",
    "import pandas as pd\n",
    "import numpy as np\n",
    "from bs4 import BeautifulSoup\n",
    "import zlib\n",
    "from base64 import b64decode"
   ]
  },
  {
   "cell_type": "markdown",
   "metadata": {},
   "source": [
    "### parse urls"
   ]
  },
  {
   "cell_type": "code",
   "execution_count": 3,
   "metadata": {
    "collapsed": false
   },
   "outputs": [
    {
     "name": "stdout",
     "output_type": "stream",
     "text": [
      "564549\n",
      "0 http://lenta.ru/news/2010/07/09/return/\n"
     ]
    }
   ],
   "source": [
    "urls_nums_dict = {}\n",
    "nums_urls_dict = {}\n",
    "with open('1_10/urls.txt', 'r') as f:\n",
    "    for line in f:\n",
    "        num, url = line.strip().split('\\t')\n",
    "        urls_nums_dict[url] = int(num)\n",
    "        nums_urls_dict[int(num)] = url\n",
    "print len(nums_urls_dict)\n",
    "for num, key in enumerate(nums_urls_dict):\n",
    "    if num == 0:\n",
    "        print key, nums_urls_dict[key]\n",
    "    "
   ]
  },
  {
   "cell_type": "markdown",
   "metadata": {},
   "source": [
    "### create link graph and delete hanging vertex"
   ]
  },
  {
   "cell_type": "code",
   "execution_count": 6,
   "metadata": {
    "collapsed": false
   },
   "outputs": [],
   "source": [
    "def parse_doc(line, urls_nums_dict):\n",
    "    doc_num, doc_base64 = line.strip().split('\\t')\n",
    "    #doc_base64 += '=' * (-len(doc_base64) % 4)\n",
    "    doc_gzip = b64decode(doc_base64)\n",
    "    doc_html = zlib.decompress(doc_gzip).decode('utf-8')\n",
    "    soup = BeautifulSoup(doc_html, 'html.parser')\n",
    "    links = []\n",
    "    for a in soup.find_all('a', href=True):\n",
    "        link = a['href']\n",
    "        #print link\n",
    "        if link.startswith('/'):\n",
    "            url = 'http://lenta.ru' + link\n",
    "            #print url\n",
    "            if url in urls_nums_dict:\n",
    "                #url\n",
    "                #print urls_nums_dict[url]\n",
    "                if urls_nums_dict[url] not in links: \n",
    "                    links.append(urls_nums_dict[url])\n",
    "    return (int(doc_num), links)\n",
    "\n",
    "def delHangingVertex(elem, hanging_vertex):\n",
    "    result = []\n",
    "    for num_vertex in elem[1]:\n",
    "        if num_vertex not in hanging_vertex:\n",
    "            result.append(num_vertex)\n",
    "    return (elem[0], result)\n",
    "    \n",
    "    \n",
    "input_data = sc.textFile('1_10/docs-*.txt')\n",
    "urls_nums_dict_var = sc.broadcast(urls_nums_dict)\n",
    "\n",
    "link_graph = input_data.map(lambda line: parse_doc(line, urls_nums_dict_var.value))\n",
    "hanging_vertex = link_graph.filter(lambda x: len(x[1]) == 0).keys().collect()\n",
    "\n",
    "while (len(hanging_vertex) > 0):\n",
    "    hanging_vertex_var = sc.broadcast(hanging_vertex)\n",
    "    link_graph = link_graph.filter(lambda x: len(x[1])).map(lambda x: delHangingVertex(x, hanging_vertex_var.value))\n",
    "    hanging_vertex = link_graph.filter(lambda x: len(x[1]) == 0).keys().collect()"
   ]
  },
  {
   "cell_type": "code",
   "execution_count": 7,
   "metadata": {
    "collapsed": false
   },
   "outputs": [
    {
     "name": "stdout",
     "output_type": "stream",
     "text": [
      "(0, [548964, 22116, 421943, 230318, 160577, 344192, 237530, 400516, 104512, 139038, 450829, 376651, 546615, 437861, 194459, 12739, 292708, 21557, 539319, 120369, 165839, 562111, 65668, 292479, 545151, 107460, 371742, 101766, 276498, 66931, 219685, 446892, 82112, 468431, 332228, 397925, 493616, 525520, 377520, 397989, 254306, 55, 7003, 265759, 235714, 268573, 384934, 192269, 256070, 357923, 374324, 190304, 158629, 216499, 348721, 211991, 241736, 520936, 484893, 355097, 320597, 79761, 318329, 400678, 312011, 26984, 557578, 522713, 57740, 281835, 516741, 33106, 261457, 554624, 386139, 1301, 392491, 216453, 256626, 232845, 479370, 81738, 47941, 310936, 164761, 143214, 360517, 442188, 249145, 555301, 402018, 553746, 18382, 336213, 357417, 82101, 186102, 326176, 407656, 562529, 522142, 312126, 395976, 11949, 53049, 493453, 94029, 84445, 275747, 294200, 155532, 554159, 315918, 130864])\n",
      "(1, [548964, 22116, 421943, 230318, 344192, 237530, 400516, 104512, 326176, 384561, 315918, 130864])\n",
      "(2, [548964, 421943, 230318, 160577, 344192, 237530, 400516, 104512, 408343, 405320, 80712, 479417, 544563, 320169, 92384, 276714, 214140, 49140, 294159, 174010, 178926, 102470, 396965, 78960, 188567, 82136, 110319, 173038, 218914, 36864, 74835, 258873, 177202, 51851, 90182, 213898, 168575, 99658, 397073, 404896, 286892, 46519, 186051, 346002, 265716, 497154, 413962, 131347, 217850, 311033, 275030, 173437, 315977, 524152, 198296, 178538, 232899, 45241, 386623, 185359, 170692, 324720, 147208, 515155, 130431, 137380, 459785, 267619, 544178, 497800, 8770, 380412, 538572, 499582, 290476, 242316, 487026, 139208, 153417, 297343, 263537, 176598, 138078, 280636, 326176, 452427, 73800, 333898, 92732, 110945, 406797, 100924, 94029, 84445, 549583, 155532, 294200, 232055, 315918, 130864])\n",
      "(3, [548964, 22116, 421943, 230318, 344192, 237530, 400516, 104512, 326176, 384561, 315918, 130864])\n",
      "(4, [548964, 22116, 421943, 230318, 160577, 344192, 237530, 400516, 104512, 419628, 362018, 345559, 200416, 170275, 186102, 112759, 367760, 165839, 562111, 49416, 292479, 7291, 101766, 444614, 371742, 545151, 67439, 163969, 365603, 313394, 204961, 488538, 506907, 109520, 82112, 88906, 269692, 21725, 7003, 340990, 150324, 487793, 502759, 64130, 31247, 268573, 190304, 4286, 244154, 367060, 76264, 26268, 158629, 533424, 119028, 253674, 40512, 352598, 485112, 87093, 171576, 130641, 111664, 218256, 199054, 32181, 26984, 557578, 281835, 57740, 33106, 516741, 25151, 150766, 216453, 470472, 153221, 370685, 303711, 321065, 85049, 77561, 238838, 12750, 243876, 283073, 202001, 402018, 442188, 555301, 122806, 305962, 391481, 123758, 18382, 259401, 93137, 27753, 530057, 533965, 326176, 407656, 562529, 522142, 312126, 395976, 11949, 53049, 493453, 94029, 84445, 275747, 294200, 155532, 554159, 315918, 130864])\n",
      "(5, [548964, 22116, 421943, 230318, 344192, 237530, 400516, 104512, 151185, 9392, 326176, 384561, 315918, 130864])\n",
      "(6, [548964, 22116, 421943, 230318, 160577, 344192, 237530, 400516, 104512, 94811, 131651, 356991, 422022, 175119, 51597, 16303, 175686, 452106, 252989, 380382, 46779, 95887, 78251, 23334, 563644, 388541, 342000, 289221, 279922, 1254, 331097, 375457, 281569, 384027, 134935, 366754, 74573, 454757, 447424, 20776, 16429, 113739, 419258, 149266, 491398, 427686, 46917, 75300, 185811, 255768, 478190, 257301, 274190, 105479, 266790, 356574, 493879, 163527, 248477, 96058, 136657, 141649, 260832, 456180, 315115, 224979, 524915, 103044, 98768, 451334, 332530, 465061, 177841, 557578, 472185, 57740, 522713, 487048, 119001, 192940, 7943, 543109, 100013, 80891, 51748, 39139, 212906, 210795, 142350, 347985, 105001, 301398, 197662, 111039, 188583, 51733, 99984, 326176, 421518, 522142, 127109, 312126, 407656, 395976, 53049, 493453, 94029, 84445, 275747, 294200, 155532, 315918, 130864])\n",
      "(7, [548964, 22116, 421943, 230318, 344192, 237530, 400516, 104512, 151185, 9392, 326176, 384561, 315918, 130864])\n",
      "(8, [548964, 22116, 421943, 230318, 160577, 344192, 237530, 400516, 104512, 105726, 120894, 13771, 93912, 228546, 290008, 346630, 31249, 292708, 539319, 331721, 394256, 562111, 323883, 180299, 545151, 447618, 101766, 237128, 276498, 222813, 79554, 521939, 49925, 27894, 82112, 447182, 352771, 211378, 325894, 65481, 377520, 350722, 277330, 168469, 556720, 397989, 489518, 85618, 557571, 457639, 437861, 414347, 384934, 192269, 158629, 104055, 197570, 399592, 386333, 6970, 418066, 484893, 318082, 39341, 442816, 498617, 401430, 318329, 26984, 557578, 522713, 57740, 281835, 516741, 33106, 261457, 188744, 28085, 234383, 41779, 353232, 256626, 479370, 145855, 441475, 520263, 386188, 164761, 141571, 397845, 229658, 360517, 42268, 553746, 336213, 490737, 369466, 257970, 470389, 326176, 407656, 562529, 522142, 312126, 395976, 11949, 53049, 493453, 94029, 84445, 275747, 294200, 155532, 554159, 315918, 130864])\n",
      "(9, [548964, 22116, 421943, 230318, 344192, 237530, 400516, 104512, 326176, 384561, 315918, 130864])\n"
     ]
    }
   ],
   "source": [
    "#link_graph.count()\n",
    "for item in link_graph.take(10):\n",
    "    print item"
   ]
  },
  {
   "cell_type": "markdown",
   "metadata": {
    "collapsed": true
   },
   "source": [
    "### count pagerank"
   ]
  },
  {
   "cell_type": "code",
   "execution_count": 8,
   "metadata": {
    "collapsed": true
   },
   "outputs": [],
   "source": [
    "def flatMapRank(elem):\n",
    "    result = []\n",
    "    count_vertex = len(elem[1])\n",
    "    stream_weight = 1. / count_vertex\n",
    "    for num_vertex in elem[1]:\n",
    "        result.append([num_vertex, stream_weight])\n",
    "    return result\n",
    "\n",
    "def RankForOtherIter(elem):\n",
    "    result = []\n",
    "    count_vertex = len(elem[1][0])\n",
    "    stream_weight = elem[1][1] * 1. / count_vertex\n",
    "    for num_vertex in elem[1][0]:\n",
    "        result.append([num_vertex, stream_weight])\n",
    "    return result"
   ]
  },
  {
   "cell_type": "code",
   "execution_count": 9,
   "metadata": {
    "collapsed": true
   },
   "outputs": [],
   "source": [
    "vertex_count = link_graph.count()\n",
    "factor = 0.8"
   ]
  },
  {
   "cell_type": "code",
   "execution_count": 10,
   "metadata": {
    "collapsed": false
   },
   "outputs": [
    {
     "name": "stdout",
     "output_type": "stream",
     "text": [
      "56454 0.8\n"
     ]
    }
   ],
   "source": [
    "print vertex_count, factor"
   ]
  },
  {
   "cell_type": "code",
   "execution_count": 11,
   "metadata": {
    "collapsed": true
   },
   "outputs": [],
   "source": [
    "link_graph = link_graph.cache()\n",
    "rank = link_graph.flatMap(lambda x: flatMapRank(x)).reduceByKey(lambda a, b: a + b).\\\n",
    "    mapValues(lambda x: (1. - factor) / vertex_count + factor * x).cache()"
   ]
  },
  {
   "cell_type": "code",
   "execution_count": 12,
   "metadata": {
    "collapsed": false
   },
   "outputs": [],
   "source": [
    "for i in range(10):\n",
    "    join_rank_graph = link_graph.join(rank)\n",
    "    rank = join_rank_graph.flatMap(lambda x: RankForOtherIter(x)).reduceByKey(lambda a, b: a + b).\\\n",
    "        mapValues(lambda x: (1. - factor) / vertex_count + factor * x)"
   ]
  },
  {
   "cell_type": "code",
   "execution_count": 13,
   "metadata": {
    "collapsed": false
   },
   "outputs": [],
   "source": [
    "rank = rank.map(lambda a: (a[1], a[0])).sortByKey(ascending=False).map(lambda a: (a[1], a[0])).collect()"
   ]
  },
  {
   "cell_type": "code",
   "execution_count": 14,
   "metadata": {
    "collapsed": false
   },
   "outputs": [
    {
     "name": "stdout",
     "output_type": "stream",
     "text": [
      "http://lenta.ru/ 2.96546123032e-05\n",
      "http://lenta.ru/parts/video/ 2.96546123032e-05\n",
      "http://lenta.ru/info/ 2.96546123032e-05\n",
      "http://lenta.ru/rubrics/ww1/ 2.96546123032e-05\n",
      "http://lenta.ru/parts/infographics/ 2.96546123032e-05\n",
      "http://lenta.ru/specprojects/ 2.96546123032e-05\n",
      "http://lenta.ru/parts/text/ 2.96546123032e-05\n",
      "http://lenta.ru/rss 2.96546123032e-05\n",
      "http://lenta.ru/rubrics/weapons/ 2.96546123032e-05\n",
      "http://lenta.ru/rubrics/forces/ 2.96546123032e-05\n",
      "http://lenta.ru/rubrics/business/ 2.94628815374e-05\n",
      "http://lenta.ru/photo/2015/01/05/portartur/ 2.73046035069e-05\n",
      "http://lenta.ru/rubrics/library/ 1.06005377355e-05\n",
      "http://lenta.ru/photo/2014/12/20/newyeartoys/ 9.32739886992e-06\n",
      "http://lenta.ru/articles/2014/12/25/wwichristmas/ 8.515565597e-06\n",
      "http://lenta.ru/news/2014/12/25/chelsea/ 8.46553224437e-06\n",
      "http://lenta.ru/rubrics/russia/regions/ 7.62867241204e-06\n",
      "http://lenta.ru/rubrics/russia/moscow/ 7.62867241204e-06\n",
      "http://lenta.ru/news/2014/11/24/arrows/ 5.60403278005e-06\n",
      "http://lenta.ru/news/2014/12/04/transvesti/ 5.57695983694e-06\n",
      "http://lenta.ru/articles/2014/12/24/inet2014/ 5.54258752227e-06\n",
      "http://lenta.ru/articles/2014/10/30/handmaid/ 5.38854032714e-06\n",
      "http://lenta.ru/articles/2014/10/30/reload/ 5.38854032714e-06\n",
      "http://lenta.ru/articles/2014/11/03/mertro/ 5.38854032714e-06\n",
      "http://lenta.ru/articles/2014/11/03/traub/ 5.38854032714e-06\n",
      "http://lenta.ru/news/2014/12/22/hmmwv/ 5.28356795112e-06\n",
      "http://lenta.ru/articles/2014/12/23/christmasstories/ 5.22159686643e-06\n",
      "http://lenta.ru/news/2014/12/23/master/ 5.22159686643e-06\n",
      "http://lenta.ru/news/2014/12/23/christmas/ 5.22159686643e-06\n",
      "http://lenta.ru/articles/2014/10/23/threehorrors/ 5.19680956138e-06\n"
     ]
    }
   ],
   "source": [
    "for i in range(30):\n",
    "    print nums_urls_dict[rank[i][0]], rank[i][1]\n",
    "    "
   ]
  },
  {
   "cell_type": "markdown",
   "metadata": {},
   "source": [
    "## Hits algorithm"
   ]
  },
  {
   "cell_type": "markdown",
   "metadata": {},
   "source": [
    "### read data"
   ]
  },
  {
   "cell_type": "code",
   "execution_count": 15,
   "metadata": {
    "collapsed": false
   },
   "outputs": [],
   "source": [
    "def makeInvGraph(elem):\n",
    "    result = []\n",
    "    proccessVertex = elem[0]\n",
    "    for nowVertex in elem[1]:\n",
    "        result.append([nowVertex, proccessVertex])\n",
    "    return result\n",
    "\n",
    "input_data = sc.textFile('1_10/docs-*.txt')\n",
    "urls_nums_dict_var = sc.broadcast(urls_nums_dict)\n",
    "\n",
    "graph = input_data.map(lambda line: parse_doc(line, urls_nums_dict_var.value)).cache()\n",
    "inv_graph = graph.flatMap(lambda x: makeInvGraph(x)).map(lambda x: (x[0], [x[1]])).\\\n",
    "            reduceByKey(lambda a, b: a + b).cache()"
   ]
  },
  {
   "cell_type": "code",
   "execution_count": 16,
   "metadata": {
    "collapsed": false
   },
   "outputs": [
    {
     "name": "stdout",
     "output_type": "stream",
     "text": [
      "(168784, [39331])\n",
      "(164864, [10114])\n",
      "(329112, [23283])\n",
      "(298424, [28843])\n",
      "(221704, [43312])\n",
      "(210952, [828])\n",
      "(259280, [44849])\n",
      "(404264, [53737])\n",
      "(407568, [10532])\n",
      "(139608, [9443, 24448, 29295, 45665])\n"
     ]
    }
   ],
   "source": [
    "#for item in graph.take(10):\n",
    "#    print item\n",
    "for item in inv_graph.take(10):\n",
    "    print item"
   ]
  },
  {
   "cell_type": "markdown",
   "metadata": {},
   "source": [
    "### initialize hub and auto for each node"
   ]
  },
  {
   "cell_type": "code",
   "execution_count": 17,
   "metadata": {
    "collapsed": true
   },
   "outputs": [],
   "source": [
    "auth_val = graph.map(lambda x: (x[0], 1.)).cache()\n",
    "hub_val = graph.map(lambda x: (x[0], 1.)).cache()"
   ]
  },
  {
   "cell_type": "markdown",
   "metadata": {},
   "source": [
    "## cut graph"
   ]
  },
  {
   "cell_type": "code",
   "execution_count": 18,
   "metadata": {
    "collapsed": true
   },
   "outputs": [],
   "source": [
    "hanging_vertex = inv_graph.filter(lambda x: len(x[1]) == 0).keys().collect()\n",
    "while (len(hanging_vertex) > 0):\n",
    "    hanging_vertex_var = sc.broadcast(hanging_vertex)\n",
    "    inv_graph = inv_graph.filter(lambda x: len(x[1])).map(lambda x: delHangingVertex(x, hanging_vertex_var.value)).cache()\n",
    "    hanging_vertex = inv_graph.filter(lambda x: len(x[1]) == 0).keys().collect()"
   ]
  },
  {
   "cell_type": "code",
   "execution_count": 19,
   "metadata": {
    "collapsed": true
   },
   "outputs": [],
   "source": [
    "hanging_vertex = graph.filter(lambda x: len(x[1]) == 0).keys().collect()\n",
    "while (len(hanging_vertex) > 0):\n",
    "    hanging_vertex_var = sc.broadcast(hanging_vertex)\n",
    "    graph = graph.filter(lambda x: len(x[1])).map(lambda x: delHangingVertex(x, hanging_vertex_var.value)).cache()\n",
    "    hanging_vertex = graph.filter(lambda x: len(x[1]) == 0).keys().collect()"
   ]
  },
  {
   "cell_type": "markdown",
   "metadata": {},
   "source": [
    "### count auto and hub values for each vertex"
   ]
  },
  {
   "cell_type": "code",
   "execution_count": 20,
   "metadata": {
    "collapsed": false
   },
   "outputs": [],
   "source": [
    "for i in range(10):\n",
    "    new_hub_val = inv_graph.join(auth_val).flatMap(lambda x: RankForOtherIter(x)).reduceByKey(lambda a, b:a+b)\n",
    "    new_auth_val = graph.join(hub_val).flatMap(lambda x: RankForOtherIter(x)).reduceByKey(lambda a, b:a+b)\n",
    "    #hub_norm_val = np.sqrt(new_hub_val.map(lambda x: x[1]**2).sum())\n",
    "    #hub_norm_val_sc = sc.broadcast(hub_norm_val)\n",
    "    #auth_norm_val = np.sqrt(new_auth_val.map(lambda x: x[1] ** 2).sum())\n",
    "    #auth_norm_val_sc = sc.broadcast(auth_norm_val)\n",
    "    #new_hub_val = new_hub_val.map(lambda x: (x[0], x[1] / hub_norm_val_sc))\n",
    "    #new_auth_val = auth_norm_val.map(lambda x: (x[0], x[1] / auth_norm_val_sc))\n",
    "    auth_val = new_auth_val.cache()\n",
    "    hub_val = new_hub_val.cache()"
   ]
  },
  {
   "cell_type": "markdown",
   "metadata": {},
   "source": [
    "### ouput result"
   ]
  },
  {
   "cell_type": "code",
   "execution_count": 21,
   "metadata": {
    "collapsed": false
   },
   "outputs": [],
   "source": [
    "auth_val = auth_val.sortBy(lambda x: x[1], ascending=False).collect()\n",
    "hub_val = hub_val.sortBy(lambda x: x[1], ascending=False).collect()"
   ]
  },
  {
   "cell_type": "code",
   "execution_count": 22,
   "metadata": {
    "collapsed": false
   },
   "outputs": [
    {
     "name": "stdout",
     "output_type": "stream",
     "text": [
      "http://lenta.ru/ 92.921484877\n",
      "http://lenta.ru/info/ 92.921484877\n",
      "http://lenta.ru/specprojects/ 92.921484877\n",
      "http://lenta.ru/parts/text/ 92.921484877\n",
      "http://lenta.ru/rss 92.921484877\n",
      "http://lenta.ru/parts/video/ 92.8297567597\n",
      "http://lenta.ru/parts/infographics/ 92.8297567597\n",
      "http://lenta.ru/rubrics/weapons/ 92.8297567597\n",
      "http://lenta.ru/rubrics/ww1/ 92.3974181184\n",
      "http://lenta.ru/rubrics/forces/ 92.298677507\n",
      "http://lenta.ru/rubrics/business/ 89.3820960625\n",
      "http://lenta.ru/photo/2015/01/05/portartur/ 58.5526465034\n",
      "http://lenta.ru/rubrics/library/ 49.8744094999\n",
      "http://lenta.ru/photo/2014/12/20/newyeartoys/ 44.1612056952\n",
      "http://lenta.ru/news/2014/11/24/arrows/ 32.5682967257\n",
      "http://lenta.ru/news/2014/12/04/transvesti/ 32.0923497863\n",
      "http://lenta.ru/news/2014/12/22/hmmwv/ 28.7085644586\n",
      "http://lenta.ru/articles/2014/12/25/wwichristmas/ 28.2435440821\n",
      "http://lenta.ru/articles/2014/10/30/handmaid/ 27.5855166092\n",
      "http://lenta.ru/articles/2014/11/03/traub/ 27.5811947327\n",
      "http://lenta.ru/articles/2014/11/03/mertro/ 27.5424046671\n",
      "http://lenta.ru/articles/2014/10/30/reload/ 27.5413582612\n",
      "http://lenta.ru/photo/2014/12/13/girlsonwar/ 26.8122347605\n",
      "http://lenta.ru/news/2014/12/25/chelsea/ 26.7447363928\n",
      "http://lenta.ru/news/2014/12/22/globemaster/ 26.1449087149\n",
      "http://lenta.ru/news/2014/12/23/master/ 24.982391463\n",
      "http://lenta.ru/news/2014/12/23/christmas/ 24.8459425481\n",
      "http://lenta.ru/articles/2014/12/23/christmasstories/ 24.7942235954\n",
      "http://lenta.ru/articles/2014/10/23/threehorrors/ 24.7080420887\n",
      "http://lenta.ru/articles/2014/12/07/kagarlicki/ 21.7784149349\n"
     ]
    }
   ],
   "source": [
    "for i in range(30):\n",
    "    print nums_urls_dict[auth_val[i][0]], auth_val[i][1]"
   ]
  },
  {
   "cell_type": "code",
   "execution_count": 23,
   "metadata": {
    "collapsed": false
   },
   "outputs": [
    {
     "name": "stdout",
     "output_type": "stream",
     "text": [
      "http://lenta.ru/world/2000/07/07/nicaragua/ 33.7555035088\n",
      "http://lenta.ru/oddly/2001/05/17/smile/ 4.55474302783\n",
      "http://lenta.ru/news/2006/08/09/shvydkoi/ 4.42679898264\n",
      "http://lenta.ru/news/2007/12/14/latvia/ 4.42614992331\n",
      "http://lenta.ru/russia/2002/07/12/nazdratenko/ 4.4247393084\n",
      "http://lenta.ru/economy/2001/09/14/oil/ 4.38122408143\n",
      "http://lenta.ru/news/2005/09/29/fight/ 4.37921293047\n",
      "http://lenta.ru/news/2010/12/12/gneva/ 4.37632915719\n",
      "http://lenta.ru/articles/2010/08/16/starcraft/ 4.36324770178\n",
      "http://lenta.ru/news/2012/11/27/radio/ 4.30901358579\n",
      "http://lenta.ru/news/2006/11/09/poll/ 4.30326212741\n",
      "http://lenta.ru/news/2006/02/16/mkkk/ 4.28867154797\n",
      "http://lenta.ru/news/2005/07/28/footfans/ 4.28180547864\n",
      "http://lenta.ru/sport/2001/08/24/draw/ 4.2576692132\n",
      "http://lenta.ru/news/2011/11/16/blast/ 4.25489538765\n",
      "http://lenta.ru/news/2009/03/25/wiki/ 4.25305446942\n",
      "http://lenta.ru/news/2009/11/25/plead/ 4.25209348867\n",
      "http://lenta.ru/news/2010/12/18/beefheart/ 4.2379199379\n",
      "http://lenta.ru/articles/2012/11/27/chief/ 4.2364471991\n",
      "http://lenta.ru/news/2007/02/21/withdraw/ 4.22367986625\n",
      "http://lenta.ru/news/2014/09/12/poroshenko1/ 4.2059435564\n",
      "http://lenta.ru/culture/2001/08/09/harrison/ 4.17626310482\n",
      "http://lenta.ru/news/2010/01/19/pav/ 4.17502216753\n",
      "http://lenta.ru/articles/2013/10/20/provodnikov/ 4.1740225105\n",
      "http://lenta.ru/photo/2007/10/11/electra/ 4.17317281865\n",
      "http://lenta.ru/articles/2006/07/10/autocrazy/ 4.16617996362\n",
      "http://lenta.ru/news/2012/09/04/strike1/ 4.16192257099\n",
      "http://lenta.ru/internet/2004/03/24/hamasru/ 4.15670335308\n",
      "http://lenta.ru/news/2008/06/25/referendum/ 4.15290629563\n",
      "http://lenta.ru/world/2002/05/17/tornado/ 4.14351358846\n"
     ]
    }
   ],
   "source": [
    "for i in range(30):\n",
    "    print nums_urls_dict[hub_val[i][0]], hub_val[i][1]"
   ]
  },
  {
   "cell_type": "code",
   "execution_count": null,
   "metadata": {
    "collapsed": true
   },
   "outputs": [],
   "source": []
  }
 ],
 "metadata": {
  "kernelspec": {
   "display_name": "Python 2",
   "language": "python",
   "name": "python2"
  },
  "language_info": {
   "codemirror_mode": {
    "name": "ipython",
    "version": 2
   },
   "file_extension": ".py",
   "mimetype": "text/x-python",
   "name": "python",
   "nbconvert_exporter": "python",
   "pygments_lexer": "ipython2",
   "version": "2.7.6"
  }
 },
 "nbformat": 4,
 "nbformat_minor": 0
}
