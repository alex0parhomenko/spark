{
 "cells": [
  {
   "cell_type": "code",
   "execution_count": 1,
   "metadata": {
    "collapsed": false
   },
   "outputs": [
    {
     "data": {
      "text/plain": [
       "<pyspark.context.SparkContext at 0x7ff76421d310>"
      ]
     },
     "execution_count": 1,
     "metadata": {},
     "output_type": "execute_result"
    }
   ],
   "source": [
    "sc"
   ]
  },
  {
   "cell_type": "code",
   "execution_count": 2,
   "metadata": {
    "collapsed": true
   },
   "outputs": [],
   "source": [
    "import sklearn as sk\n",
    "import pandas as pd\n",
    "import numpy as np\n",
    "from bs4 import BeautifulSoup\n",
    "import zlib\n",
    "from base64 import b64decode"
   ]
  },
  {
   "cell_type": "markdown",
   "metadata": {},
   "source": [
    "### parse urls"
   ]
  },
  {
   "cell_type": "code",
   "execution_count": 6,
   "metadata": {
    "collapsed": false
   },
   "outputs": [
    {
     "name": "stdout",
     "output_type": "stream",
     "text": [
      "5646\n",
      "0 http://lenta.ru/news/2010/07/09/return/\n"
     ]
    }
   ],
   "source": [
    "urls_nums_dict = {}\n",
    "nums_urls_dict = {}\n",
    "with open('1_100/urls.txt', 'r') as f:\n",
    "    for line in f:\n",
    "        num, url = line.strip().split('\\t')\n",
    "        urls_nums_dict[url] = int(num)\n",
    "        nums_urls_dict[int(num)] = url\n",
    "print len(nums_urls_dict)\n",
    "for num, key in enumerate(nums_urls_dict):\n",
    "    if num == 0:\n",
    "        print key, nums_urls_dict[key]\n",
    "    "
   ]
  },
  {
   "cell_type": "markdown",
   "metadata": {},
   "source": [
    "### create link graph and delete hanging vertex"
   ]
  },
  {
   "cell_type": "code",
   "execution_count": 76,
   "metadata": {
    "collapsed": false
   },
   "outputs": [],
   "source": [
    "def parse_doc(line, urls_nums_dict):\n",
    "    doc_num, doc_base64 = line.strip().split('\\t')\n",
    "    doc_gzip = b64decode(doc_base64)\n",
    "    doc_html = zlib.decompress(doc_gzip).decode('utf-8')\n",
    "    soup = BeautifulSoup(doc_html, 'html.parser')\n",
    "    links = []\n",
    "    for a in soup.find_all('a', href=True):\n",
    "        link = a['href']\n",
    "        #print link\n",
    "        if link.startswith('/'):\n",
    "            url = 'http://lenta.ru' + link\n",
    "            #print url\n",
    "            if url in urls_nums_dict:\n",
    "                #url\n",
    "                #print urls_nums_dict[url]\n",
    "                if urls_nums_dict[url] not in links: \n",
    "                    links.append(urls_nums_dict[url])\n",
    "    return (int(doc_num), links)\n",
    "\n",
    "def delHangingVertex(elem, hanging_vertex):\n",
    "    result = []\n",
    "    for num_vertex in elem[1]:\n",
    "        if num_vertex not in hanging_vertex:\n",
    "            result.append(num_vertex)\n",
    "    return (elem[0], result)\n",
    "    \n",
    "    \n",
    "input_data = sc.textFile('1_100/docs-000.txt')\n",
    "urls_nums_dict_var = sc.broadcast(urls_nums_dict)\n",
    "\n",
    "link_graph = input_data.map(lambda line: parse_doc(line, urls_nums_dict_var.value))\n",
    "hanging_vertex = link_graph.filter(lambda x: len(x[1]) == 0).keys().collect()\n",
    "\n",
    "while (len(hanging_vertex) > 0):\n",
    "    hanging_vertex_var = sc.broadcast(hanging_vertex)\n",
    "    link_graph = link_graph.filter(lambda x: len(x[1])).map(lambda x: delHangingVertex(x, hanging_vertex_var.value))\n",
    "    hanging_vertex = link_graph.filter(lambda x: len(x[1]) == 0).keys().collect()"
   ]
  },
  {
   "cell_type": "code",
   "execution_count": null,
   "metadata": {
    "collapsed": true
   },
   "outputs": [],
   "source": [
    "#link_graph.count()\n",
    "for item in link_graph.take(100):\n",
    "    print item"
   ]
  },
  {
   "cell_type": "markdown",
   "metadata": {
    "collapsed": true
   },
   "source": [
    "### count pagerank"
   ]
  },
  {
   "cell_type": "code",
   "execution_count": 215,
   "metadata": {
    "collapsed": true
   },
   "outputs": [],
   "source": [
    "def flatMapRank(elem):\n",
    "    result = []\n",
    "    count_vertex = len(elem[1])\n",
    "    stream_weight = 1. / count_vertex\n",
    "    for num_vertex in elem[1]:\n",
    "        result.append([num_vertex, stream_weight])\n",
    "    return result\n",
    "\n",
    "def RankForOtherIter(elem):\n",
    "    result = []\n",
    "    count_vertex = len(elem[1][0])\n",
    "    stream_weight = elem[1][1] * 1. / count_vertex\n",
    "    for num_vertex in elem[1][0]:\n",
    "        result.append([num_vertex, stream_weight])\n",
    "    return result"
   ]
  },
  {
   "cell_type": "code",
   "execution_count": 184,
   "metadata": {
    "collapsed": true
   },
   "outputs": [],
   "source": [
    "vertex_count = link_graph.count()\n",
    "factor = 0.8"
   ]
  },
  {
   "cell_type": "code",
   "execution_count": 185,
   "metadata": {
    "collapsed": false
   },
   "outputs": [
    {
     "name": "stdout",
     "output_type": "stream",
     "text": [
      "2388 0.8\n"
     ]
    }
   ],
   "source": [
    "print vertex_count, factor"
   ]
  },
  {
   "cell_type": "code",
   "execution_count": 186,
   "metadata": {
    "collapsed": true
   },
   "outputs": [],
   "source": [
    "link_graph = link_graph.cache()\n",
    "rank = link_graph.flatMap(lambda x: flatMapRank(x)).reduceByKey(lambda a, b: a + b).\\\n",
    "    mapValues(lambda x: (1. - factor) / vertex_count + factor * x).cache()"
   ]
  },
  {
   "cell_type": "code",
   "execution_count": 187,
   "metadata": {
    "collapsed": false
   },
   "outputs": [],
   "source": [
    "for i in range(10):\n",
    "    join_rank_graph = link_graph.join(rank)\n",
    "    rank = join_rank_graph.flatMap(lambda x: RankForOtherIter(x)).reduceByKey(lambda a, b: a + b).\\\n",
    "        mapValues(lambda x: (1. - factor) / vertex_count + factor * x)"
   ]
  },
  {
   "cell_type": "code",
   "execution_count": 188,
   "metadata": {
    "collapsed": false
   },
   "outputs": [],
   "source": [
    "rank = rank.map(lambda a: (a[1], a[0])).sortByKey(ascending=False).map(lambda a: (a[1], a[0])).collect()"
   ]
  },
  {
   "cell_type": "code",
   "execution_count": 189,
   "metadata": {
    "collapsed": false
   },
   "outputs": [
    {
     "name": "stdout",
     "output_type": "stream",
     "text": [
      "http://lenta.ru/articles/2014/11/03/mertro/ 170.686855938\n",
      "http://lenta.ru/news/2014/12/23/earnings/ 7.34497813059\n",
      "http://lenta.ru/news/2014/12/23/hasntdecided/ 5.15434354442\n",
      "http://lenta.ru/news/2015/01/04/intelwoblogs/ 4.12355139338\n",
      "http://lenta.ru/news/2014/12/17/shar/ 0.129365856583\n",
      "http://lenta.ru/conf/zadornov/?qall=yes 0.0862821351386\n",
      "http://lenta.ru/features/thief/boredomtown/ 0.0862821351386\n",
      "http://lenta.ru/conf/souzmf/?qall=yes 0.0862821351386\n",
      "http://lenta.ru/onlines/2014/07/09/netarglive/page4/ 0.0862821351386\n",
      "http://lenta.ru/conf/etmanov/?qall=yes 0.0862821351386\n",
      "http://lenta.ru/news/2014/12/18/beltradefail/ 0.0862821351386\n",
      "http://lenta.ru/news/2014/12/19/arctique/ 0.0862821351386\n",
      "http://lenta.ru/onlines/2013/11/06/zenpor/page2/ 0.0862821351386\n",
      "http://lenta.ru/news/2014/12/30/resign/ 0.0858596128221\n",
      "http://lenta.ru/news/2014/12/25/malaysia/ 0.0188607492904\n",
      "http://lenta.ru/news/2014/12/30/eyesurgery/ 0.00993847866812\n",
      "http://lenta.ru/news/2014/12/30/minfin/ 0.00679701051489\n",
      "http://lenta.ru/news/2014/12/26/basketball/ 0.00559922375826\n",
      "http://lenta.ru/news/2014/12/31/sportputin/ 0.00344369992755\n",
      "http://lenta.ru/news/2014/12/31/terrorists_lost/ 0.00341571885025\n",
      "http://lenta.ru/articles/2014/12/01/ships/ 0.00100909671117\n",
      "http://lenta.ru/news/2014/12/16/dmcreissue/ 0.00086955054298\n",
      "http://lenta.ru/news/2014/12/16/ohh/ 0.000740838472695\n",
      "http://lenta.ru/news/2014/12/14/lipnizkaya/ 0.000735887025528\n",
      "http://lenta.ru/news/2014/12/13/lipnitskaya/ 0.000638115111022\n",
      "http://lenta.ru/news/2014/11/17/propaganda/ 0.000413825608082\n",
      "http://lenta.ru/news/2014/11/28/dedmoroz/ 0.000265410088308\n",
      "http://lenta.ru/articles/2014/11/25/army/ 0.000251429074975\n",
      "http://lenta.ru/news/2014/12/25/letter1/ 0.000239992440137\n",
      "http://lenta.ru/news/2014/12/08/worldcup/ 0.000223467048308\n"
     ]
    }
   ],
   "source": [
    "for i in range(30):\n",
    "    print nums_urls_dict[rank[i][0]], rank[i][1]\n",
    "    "
   ]
  },
  {
   "cell_type": "markdown",
   "metadata": {},
   "source": [
    "## Hits algorithm"
   ]
  },
  {
   "cell_type": "markdown",
   "metadata": {},
   "source": [
    "### read data"
   ]
  },
  {
   "cell_type": "code",
   "execution_count": 245,
   "metadata": {
    "collapsed": false
   },
   "outputs": [],
   "source": [
    "def makeInvGraph(elem):\n",
    "    result = []\n",
    "    proccessVertex = elem[0]\n",
    "    for nowVertex in elem[1]:\n",
    "        result.append([nowVertex, proccessVertex])\n",
    "    return result\n",
    "\n",
    "input_data = sc.textFile('1_100/docs-000.txt')\n",
    "urls_nums_dict_var = sc.broadcast(urls_nums_dict)\n",
    "\n",
    "graph = input_data.map(lambda line: parse_doc(line, urls_nums_dict_var.value)).cache()\n",
    "inv_graph = graph.flatMap(lambda x: makeInvGraph(x)).map(lambda x: (x[0], [x[1]])).\\\n",
    "            reduceByKey(lambda a, b: a + b).cache()"
   ]
  },
  {
   "cell_type": "code",
   "execution_count": 246,
   "metadata": {
    "collapsed": false
   },
   "outputs": [
    {
     "name": "stdout",
     "output_type": "stream",
     "text": [
      "(1290, [2983])\n",
      "(4368, [765])\n",
      "(798, [2978, 5303])\n",
      "(1116, [1116])\n",
      "(2730, [2730])\n",
      "(306, [306])\n",
      "(3378, [324])\n",
      "(5556, [2641, 5556])\n",
      "(3420, [23, 42, 49, 63, 70, 96, 101, 104, 130, 163, 209, 225, 237, 247, 266, 320, 335, 374, 387, 425, 442, 463, 465, 530, 532, 600, 604, 623, 656, 660, 766, 779, 830, 838, 875, 924, 927, 954, 975, 1013, 1045, 1080, 1161, 1168, 1191, 1265, 1270, 1298, 1314, 1327, 1340, 1350, 1370, 1386, 1439, 1447, 1453, 1476, 1485, 1544, 1555, 1565, 1608, 1673, 1832, 1865, 1889, 1928, 1965, 2019, 2065, 2071, 2080, 2086, 2097, 2098, 2151, 2185, 2188, 2191, 2212, 2229, 2232, 2233, 2238, 2240, 2246, 2256, 2267, 2339, 2341, 2384, 2441, 2465, 2487, 2500, 2523, 2542, 2583, 2595, 2599, 2606, 2615, 2643, 2646, 2654, 2671, 2672, 2723, 2732, 2740, 2742, 2797, 2808, 2819, 2829, 2881, 2887, 2921, 2937, 2966, 2994, 3007, 3073, 3075, 3110, 3136, 3160, 3162, 3296, 3304, 3317, 3340, 3343, 3354, 3367, 3374, 3380, 3384, 3393, 3420, 3551, 3563, 3577, 3589, 3612, 3635, 3652, 3668, 3766, 3779, 3781, 3785, 3787, 3816, 3829, 3860, 3862, 3883, 3887, 3896, 3899, 3969, 4008, 4014, 4036, 4057, 4061, 4076, 4078, 4105, 4117, 4133, 4183, 4193, 4240, 4254, 4266, 4274, 4291, 4296, 4314, 4403, 4449, 4487, 4494, 4546, 4551, 4557, 4576, 4624, 4634, 4677, 4709, 4756, 4757, 4773, 4801, 4814, 4829, 4898, 5022, 5042, 5073, 5085, 5093, 5154, 5156, 5188, 5192, 5260, 5322, 5360, 5373, 5389, 5399, 5400, 5406, 5426, 5428, 5449, 5504, 5519, 5528, 5533, 5563, 5568, 5600, 5629, 5643])\n",
      "(3258, [3258])\n"
     ]
    }
   ],
   "source": [
    "#for item in graph.take(10):\n",
    "#    print item\n",
    "for item in inv_graph.take(10):\n",
    "    print item"
   ]
  },
  {
   "cell_type": "markdown",
   "metadata": {},
   "source": [
    "### initialize hub and auto for each node"
   ]
  },
  {
   "cell_type": "code",
   "execution_count": 247,
   "metadata": {
    "collapsed": true
   },
   "outputs": [],
   "source": [
    "auth_val = graph.map(lambda x: (x[0], 1.)).cache()\n",
    "hub_val = graph.map(lambda x: (x[0], 1.)).cache()"
   ]
  },
  {
   "cell_type": "markdown",
   "metadata": {},
   "source": [
    "## cut graph"
   ]
  },
  {
   "cell_type": "code",
   "execution_count": 248,
   "metadata": {
    "collapsed": true
   },
   "outputs": [],
   "source": [
    "hanging_vertex = inv_graph.filter(lambda x: len(x[1]) == 0).keys().collect()\n",
    "while (len(hanging_vertex) > 0):\n",
    "    hanging_vertex_var = sc.broadcast(hanging_vertex)\n",
    "    inv_graph = inv_graph.filter(lambda x: len(x[1])).map(lambda x: delHangingVertex(x, hanging_vertex_var.value)).cache()\n",
    "    hanging_vertex = inv_graph.filter(lambda x: len(x[1]) == 0).keys().collect()"
   ]
  },
  {
   "cell_type": "code",
   "execution_count": 249,
   "metadata": {
    "collapsed": true
   },
   "outputs": [],
   "source": [
    "hanging_vertex = graph.filter(lambda x: len(x[1]) == 0).keys().collect()\n",
    "while (len(hanging_vertex) > 0):\n",
    "    hanging_vertex_var = sc.broadcast(hanging_vertex)\n",
    "    graph = graph.filter(lambda x: len(x[1])).map(lambda x: delHangingVertex(x, hanging_vertex_var.value)).cache()\n",
    "    hanging_vertex = graph.filter(lambda x: len(x[1]) == 0).keys().collect()"
   ]
  },
  {
   "cell_type": "markdown",
   "metadata": {},
   "source": [
    "### count auto and hub values for each vertex"
   ]
  },
  {
   "cell_type": "code",
   "execution_count": 250,
   "metadata": {
    "collapsed": false
   },
   "outputs": [],
   "source": [
    "for i in range(10):\n",
    "    new_hub_val = inv_graph.join(auth_val).flatMap(lambda x: RankForOtherIter(x)).reduceByKey(lambda a, b:a+b)\n",
    "    new_auth_val = graph.join(hub_val).flatMap(lambda x: RankForOtherIter(x)).reduceByKey(lambda a, b:a+b)\n",
    "    #hub_norm_val = np.sqrt(new_hub_val.map(lambda x: x[1]**2).sum())\n",
    "    #hub_norm_val_sc = sc.broadcast(hub_norm_val)\n",
    "    #auth_norm_val = np.sqrt(new_auth_val.map(lambda x: x[1] ** 2).sum())\n",
    "    #auth_norm_val_sc = sc.broadcast(auth_norm_val)\n",
    "    #new_hub_val = new_hub_val.map(lambda x: (x[0], x[1] / hub_norm_val_sc))\n",
    "    #new_auth_val = auth_norm_val.map(lambda x: (x[0], x[1] / auth_norm_val_sc))\n",
    "    auth_val = new_auth_val.cache()\n",
    "    hub_val = new_hub_val.cache()"
   ]
  },
  {
   "cell_type": "markdown",
   "metadata": {},
   "source": [
    "### ouput result"
   ]
  },
  {
   "cell_type": "code",
   "execution_count": 251,
   "metadata": {
    "collapsed": false
   },
   "outputs": [],
   "source": [
    "auth_val = auth_val.sortBy(lambda x: x[1], ascending=False).collect()\n",
    "hub_val = hub_val.sortBy(lambda x: x[1], ascending=False).collect()"
   ]
  },
  {
   "cell_type": "code",
   "execution_count": 252,
   "metadata": {
    "collapsed": false
   },
   "outputs": [
    {
     "name": "stdout",
     "output_type": "stream",
     "text": [
      "http://lenta.ru/articles/2014/11/03/mertro/ 47.2377584638\n",
      "http://lenta.ru/news/2014/12/30/minfin/ 5.19020504027\n",
      "http://lenta.ru/news/2014/12/31/sportputin/ 4.13819031019\n",
      "http://lenta.ru/news/2014/12/25/letter1/ 3.94853279504\n",
      "http://lenta.ru/news/2008/02/22/avalanche/ 3.0\n",
      "http://lenta.ru/news/2007/05/22/rosenior/ 3.0\n",
      "http://lenta.ru/news/2014/12/25/malaysia/ 2.7652665992\n",
      "http://lenta.ru/news/2014/12/16/dmcreissue/ 2.70016718107\n",
      "http://lenta.ru/news/2014/12/14/lipnizkaya/ 2.0009765625\n",
      "http://lenta.ru/news/2010/05/11/pass/ 2.0\n",
      "http://lenta.ru/news/2010/09/16/khryapa/ 2.0\n",
      "http://lenta.ru/news/2014/10/23/blame/ 2.0\n",
      "http://lenta.ru/news/2011/04/29/zaitseva1/ 2.0\n",
      "http://lenta.ru/articles/2010/05/11/resign/ 2.0\n",
      "http://lenta.ru/news/2014/12/23/earnings/ 1.94084896232\n",
      "http://lenta.ru/news/2014/12/17/shar/ 1.666015625\n",
      "http://lenta.ru/photo/2014/08/22/afp/ 1.5\n",
      "http://lenta.ru/news/2014/12/26/krym/ 1.45474786496\n",
      "http://lenta.ru/news/2014/12/26/basketball/ 1.42021487241\n",
      "http://lenta.ru/news/2015/01/04/intelwoblogs/ 1.0\n",
      "http://lenta.ru/news/2014/12/23/hasntdecided/ 1.0\n",
      "http://lenta.ru/news/2014/09/26/gosduma/ 1.0\n",
      "http://lenta.ru/conf/zadornov/?qall=yes 1.0\n",
      "http://lenta.ru/features/thief/boredomtown/ 1.0\n",
      "http://lenta.ru/conf/souzmf/?qall=yes 1.0\n",
      "http://lenta.ru/news/2007/03/09/off/ 1.0\n",
      "http://lenta.ru/news/2006/05/06/tortoise/ 1.0\n",
      "http://lenta.ru/lib/14163538/ 1.0\n",
      "http://lenta.ru/news/2010/03/19/weap/ 1.0\n",
      "http://lenta.ru/news/2010/03/19/brag/ 1.0\n"
     ]
    }
   ],
   "source": [
    "for i in range(30):\n",
    "    print nums_urls_dict[auth_val[i][0]], auth_val[i][1]"
   ]
  },
  {
   "cell_type": "code",
   "execution_count": 253,
   "metadata": {
    "collapsed": false
   },
   "outputs": [
    {
     "name": "stdout",
     "output_type": "stream",
     "text": [
      "http://lenta.ru/news/2014/12/30/minfin/ 2.55108432161\n",
      "http://lenta.ru/news/2014/12/31/terrorists_lost/ 2.55069096564\n",
      "http://lenta.ru/news/2014/12/31/sportputin/ 2.55069096564\n",
      "http://lenta.ru/news/2014/12/02/coca/ 2.50933214617\n",
      "http://lenta.ru/2007/05/17 2.33835281932\n",
      "http://lenta.ru/news/2014/09/12/subway/ 2.00156942005\n",
      "http://lenta.ru/news/2014/11/18/parking1/ 2.00156942005\n",
      "http://lenta.ru/iraq/2004/05/26/arab/ 1.99785582938\n",
      "http://lenta.ru/news/2008/10/21/equador/ 1.99785582938\n",
      "http://lenta.ru/vybory/2000/03/22/yavlinsky 1.99278565461\n",
      "http://lenta.ru/news/2005/05/18/amber/ 1.99278565461\n",
      "http://lenta.ru/news/2006/02/28/george/ 1.99278565461\n",
      "http://lenta.ru/news/2006/12/19/thai/ 1.99278565461\n",
      "http://lenta.ru/news/2010/10/22/zoocompens/ 1.99278565461\n",
      "http://lenta.ru/world/2001/12/28/snow/ 1.99278565461\n",
      "http://lenta.ru/articles/2008/10/03/gas/ 1.99278565461\n",
      "http://lenta.ru/news/2011/02/16/superheroes/ 1.99278565461\n",
      "http://lenta.ru/news/2009/04/21/stop/ 1.99278565461\n",
      "http://lenta.ru/news/2012/01/12/saturn/ 1.99278565461\n",
      "http://lenta.ru/news/2009/01/11/sychev/ 1.99278565461\n",
      "http://lenta.ru/news/2013/02/08/meshok/ 1.99278565461\n",
      "http://lenta.ru/news/2008/08/18/speech/ 1.99278565461\n",
      "http://lenta.ru/news/2010/11/29/camera/ 1.99278565461\n",
      "http://lenta.ru/news/2009/04/02/contra/ 1.99278565461\n",
      "http://lenta.ru/news/2006/06/12/baquba/ 1.99278565461\n",
      "http://lenta.ru/news/2012/01/24/rubinsk/ 1.99278565461\n",
      "http://lenta.ru/news/2011/02/13/expand/ 1.99278565461\n",
      "http://lenta.ru/news/2010/11/03/serbia/ 1.99278565461\n",
      "http://lenta.ru/news/2006/06/16/pay/ 1.99278565461\n",
      "http://lenta.ru/news/2011/03/31/molodej/ 1.99278565461\n"
     ]
    }
   ],
   "source": [
    "for i in range(30):\n",
    "    print nums_urls_dict[hub_val[i][0]], hub_val[i][1]"
   ]
  },
  {
   "cell_type": "code",
   "execution_count": null,
   "metadata": {
    "collapsed": true
   },
   "outputs": [],
   "source": []
  }
 ],
 "metadata": {
  "kernelspec": {
   "display_name": "Python 2",
   "language": "python",
   "name": "python2"
  },
  "language_info": {
   "codemirror_mode": {
    "name": "ipython",
    "version": 2
   },
   "file_extension": ".py",
   "mimetype": "text/x-python",
   "name": "python",
   "nbconvert_exporter": "python",
   "pygments_lexer": "ipython2",
   "version": "2.7.6"
  }
 },
 "nbformat": 4,
 "nbformat_minor": 0
}
